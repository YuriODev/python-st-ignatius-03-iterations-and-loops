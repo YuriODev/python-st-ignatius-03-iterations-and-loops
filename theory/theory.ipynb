{
    "cells": [
        {
            "cell_type": "markdown",
            "metadata": {},
            "source": [
                "# 1. Iterations and Loops 📘\n",
                "\n",
                "Welcome to an essential module of our Python Programming Course! In this module, we'll dive deep into iterations and loops, the constructs that allow us to execute a block of code multiple times. Understanding loops is crucial for automating repetitive tasks, processing collections of data, and writing efficient and concise code.\n",
                "\n",
                "## What's Covered in This Module 📋\n",
                "\n",
                "- **Introduction to Loops** 🎡:\n",
                "  - **Why Use Loops?**: Understanding the importance and utility of loops in programming.\n",
                "  - **Types of Loops in Python**: An overview of the `for` and `while` loops.\n",
                "- **Looping Fundamentals** 🎢: \n",
                "  - **Basic Syntax**: Learning the basic syntax of `for` and `while` loops.\n",
                "  - **Loop Control Flow**: Understanding how loops execute and control the flow of a program.\n",
                "- **The `while` Loop** ⏳:\n",
                "  - **Basic Usage**: Using the `while` loop to repeat code based on a condition.\n",
                "  - **Conditional Looping**: Using the `while` loop to repeat code as long as a condition remains true.\n",
                "- **The `for` Loop** 🔁:\n",
                "  - **The `range()` Function**: Exploring how to use `range()` with `for` loops for numerical iterations.\n",
                "  - **Iterating Over Sequences**: Using `for` loops to iterate over strings.\n",
                "  - **_**: Using the `_` variable to ignore values during iteration.\n",
                "- **Controlling Loop Execution** 🚦:\n",
                "  - **The `break` Statement**: Exiting a loop prematurely.\n",
                "  - **The `continue` Statement**: Skipping the current iteration and moving to the next one.\n",
                "  - **The `else` Clause in Loops**: Executing code after loop completion, only if not exited by a `break`.\n",
                "- **Nested Loops** 🍱:\n",
                "  - **Using Loops Within Loops**: Handling more complex iteration patterns with nested loops.\n",
                "- **Extra Tricks** 📝:\n",
                "  - **Avoiding Infinite Loops**: Tips for preventing loops that never end. \n",
                "  - **Optimizing Loop Performance**: Best practices for writing efficient loops.\n",
                "\n",
                "By the end of this module, you will have a solid understanding of how to control the flow of your programs with loops, iterate over data structures, and apply best practices for writing clean and efficient loop-based code. Let's embark on this looping journey and unlock the potential of repetitive execution in Python! 🚀\n"
            ]
        },
        {
            "cell_type": "markdown",
            "metadata": {},
            "source": [
                "# 2. Introduction to Loops 🎡"
            ]
        },
        {
            "cell_type": "markdown",
            "metadata": {},
            "source": [
                "## Why Use Loops?\n",
                "\n",
                "Loops are a fundamental concept in programming that allow us to execute a block of code multiple times. They are essential for automating repetitive tasks, processing collections of data, and writing efficient and concise code. Without loops, we would have to manually write the same code over and over again, which is not only tedious but also error-prone.\n",
                "\n",
                "Here are a few examples of tasks that can be automated using loops:\n",
                "\n",
                "- Printing a message multiple times.\n",
                "- Processing each element in a list or array.\n",
                "- Repeating an operation until a certain condition is met.\n",
                "- Iterating over a range of numbers.\n",
                "\n",
                "In Python, we have two main types of loops: `for` and `while`. Each type has its own use cases and syntax, and we'll explore them in detail in the upcoming sections.\n",
                "\n",
                "<!-- Add link to image from internet -->\n",
                "![Loops](https://www.codingem.com/wp-content/uploads/2021/09/flowchart-for-loop.003-1024x576.jpeg)"
            ]
        },
        {
            "cell_type": "markdown",
            "metadata": {},
            "source": [
                "## Types of Loops in Python"
            ]
        },
        {
            "cell_type": "markdown",
            "metadata": {},
            "source": [
                "### 1. `for` Loop\n",
                "The `for` loop is used to iterate over a sequence (such as a list, tuple, string, or range) or any other iterable object. It executes a block of code once for each element in the sequence."
            ]
        },
        {
            "cell_type": "code",
            "execution_count": 1,
            "metadata": {},
            "outputs": [
                {
                    "name": "stdout",
                    "output_type": "stream",
                    "text": [
                        "0\n",
                        "1\n",
                        "2\n",
                        "3\n",
                        "4\n"
                    ]
                }
            ],
            "source": [
                "for i in range(5):\n",
                "    print(i)"
            ]
        },
        {
            "cell_type": "markdown",
            "metadata": {},
            "source": [
                "### 2. `while` Loop\n",
                "\n",
                "The `while` loop is used to repeat a block of code as long as a specified condition is `True`. It continues to execute the code until the condition becomes `False`."
            ]
        },
        {
            "cell_type": "code",
            "execution_count": 2,
            "metadata": {},
            "outputs": [
                {
                    "name": "stdout",
                    "output_type": "stream",
                    "text": [
                        "0\n",
                        "1\n",
                        "2\n",
                        "3\n",
                        "4\n"
                    ]
                }
            ],
            "source": [
                "i = 0\n",
                "\n",
                "while i < 5:\n",
                "    print(i)\n",
                "    i += 1"
            ]
        },
        {
            "cell_type": "markdown",
            "metadata": {},
            "source": [
                "# 3. Looping Fundamentals 🎢"
            ]
        },
        {
            "cell_type": "markdown",
            "metadata": {},
            "source": [
                "## Basic Syntax\n",
                "\n",
                "Let's start by understanding the basic syntax of `for` and `while` loops in Python.\n",
                "\n",
                "\n"
            ]
        },
        {
            "cell_type": "markdown",
            "metadata": {},
            "source": [
                "### `for` Loop Syntax\n",
                "\n",
                "The syntax of a `for` loop in Python is as follows:\n",
                "\n",
                "```python\n",
                "for item in sequence:\n",
                "    # Code block to be executed for each item\n",
                "    # ...\n",
                "```\n",
                "\n",
                "- `item`: A variable that takes the value of the next element in the sequence for each iteration.\n",
                "- `sequence`: An iterable object (such as a list, tuple, string, or range) over which the loop iterates.\n",
                "- `code block`: The indented block of code that is executed for each element in the sequence."
            ]
        },
        {
            "cell_type": "markdown",
            "metadata": {},
            "source": [
                "### `while` Loop Syntax\n",
                "\n",
                "The syntax of a `while` loop in Python is as follows:\n",
                "\n",
                "```python\n",
                "while condition:\n",
                "    # Code block to be executed as long as the condition is True\n",
                "    # ...\n",
                "```\n",
                "\n",
                "- `condition`: A boolean expression that determines whether the loop should continue executing.\n",
                "- `code block`: The indented block of code that is executed as long as the condition remains `True`.\n",
                "\n"
            ]
        },
        {
            "cell_type": "markdown",
            "metadata": {},
            "source": [
                "## Loop Control Flow\n",
                "\n",
                "The flow of a loop can be visualized as follows:\n",
                "\n",
                "1. **Initialization**: The loop variable is initialized before the loop starts.\n",
                "2. **Condition Check**: The loop condition is checked before each iteration. If the condition is `True`, the loop body is executed; otherwise, the loop is terminated.\n",
                "3. **Code Execution**: The loop body is executed for each iteration.\n",
                "4. **Update**: The loop variable is updated after each iteration.\n",
                "5. **Termination**: The loop terminates when the condition becomes `False`.\n",
                "\n",
                "<!-- link to the image with loop architecture in python -->\n",
                "![Loop Architecture](https://jxawqcyqfpgxmcztoora.supabase.co/storage/v1/object/public/documents-data/png-preview-chat/YElYdG31sy)\n",
                "\n",
                "\n",
                "Let's now explore the `for` and `while` loops in more detail and understand how they work in practice."
            ]
        },
        {
            "cell_type": "markdown",
            "metadata": {},
            "source": [
                "# 4. The `while` Loop ⏳\n",
                "\n",
                "The `while` loop is used to repeat a block of code as long as a specified condition is `True`. It continues to execute the code until the condition becomes `False`. The `while` loop is useful when the number of iterations is not known in advance, and the loop should continue until a certain condition is met.   "
            ]
        },
        {
            "cell_type": "markdown",
            "metadata": {},
            "source": [
                "## Basic Usage\n",
                "\n",
                "The `while` loop is used to execute a block of code as long as a specified condition is `True`. The syntax of a `while` loop is as follows:\n",
                "\n",
                "```python\n",
                "while condition:\n",
                "    # Code block to be executed as long as the condition is True\n",
                "    # ...\n",
                "```\n",
                "\n",
                "- `condition`: A boolean expression that determines whether the loop should continue executing.\n",
                "- `code block`: The indented block of code that is executed as long as the condition remains `True`.\n",
                "\n",
                "![While Loop](https://www.tutorialspoint.com/python/images/python_while_loop.jpg)\n",
                "\n",
                "Let's look at a simple example to understand how the `while` loop works in practice."
            ]
        },
        {
            "cell_type": "code",
            "execution_count": 3,
            "metadata": {},
            "outputs": [
                {
                    "name": "stdout",
                    "output_type": "stream",
                    "text": [
                        "Count is: 1\n",
                        "Count is: 2\n",
                        "Count is: 3\n",
                        "Count is: 4\n",
                        "Count is: 5\n",
                        "Count is: 6\n",
                        "Count is: 7\n",
                        "Count is: 8\n",
                        "Count is: 9\n",
                        "Count is: 10\n"
                    ]
                }
            ],
            "source": [
                "# Initialize a variable, `count`, to 1. This is our starting point.\n",
                "count = 1\n",
                "\n",
                "# The `while` loop will continue to execute as long as the condition (count <= 10) is true.\n",
                "while count <= 10:\n",
                "    # Inside the loop, we print the current value of `count`.\n",
                "    print(\"Count is:\", count)\n",
                "    \n",
                "    # Then, we increment `count` by 1. This is our loop's way of progressing towards its end condition.\n",
                "    count += 1\n",
                "\n",
                "# When `count` is greater than 10, the loop's condition becomes false and the loop stops.\n",
                "# At this point, the program continues with any code following the loop (if there is any)."
            ]
        },
        {
            "cell_type": "markdown",
            "metadata": {},
            "source": [
                "The code is a simple example of a `while` loop in Python. Here's a breakdown of how it works:\n",
                "\n",
                "1. `count = 1`: This line initializes a variable named `count` and sets its value to 1. This variable is used to keep track of the number of times the loop has executed.\n",
                "\n",
                "2. `while count <= 10:`: This is the start of the `while` loop. The condition for the loop is `count <= 10`. This means that as long as the value of `count` is less than or equal to 10, the loop will continue to execute. Once `count` becomes greater than 10, the loop will stop.\n",
                "\n",
                "3. `print(\"Count is:\", count)`: Inside the loop, this line is executed. It prints the current value of `count` to the console. This allows us to see the loop's progress each time it executes.\n",
                "\n",
                "4. `count += 1`: This line is also inside the loop. It increments the value of `count` by 1 each time the loop executes. This is important because it moves `count` closer to 10, which is the condition for the loop to stop. Without this line, `count` would always be 1, the loop's condition would always be true, and the loop would execute indefinitely, creating an infinite loop.\n",
                "\n",
                "After the loop has finished executing (i.e., once `count` is greater than 10), the program continues with any code that follows the loop. In this case, there is no additional code, so the program ends after the loop finishes."
            ]
        },
        {
            "cell_type": "markdown",
            "metadata": {},
            "source": [
                "## Conditional Looping"
            ]
        },
        {
            "cell_type": "code",
            "execution_count": 8,
            "metadata": {},
            "outputs": [
                {
                    "name": "stdout",
                    "output_type": "stream",
                    "text": [
                        "You have $ 1000 left\n",
                        "You have $ 900 left\n",
                        "You have $ 800 left\n",
                        "You have $ 700 left\n",
                        "You have $ 600 left\n",
                        "You have $ 500 left\n",
                        "You have $ 400 left\n",
                        "You have $ 300 left\n",
                        "You have $ 200 left\n",
                        "You have $ 100 left\n"
                    ]
                }
            ],
            "source": [
                "# Set the initial balance to 1000\n",
                "balance = 1000\n",
                "\n",
                "# Execute the loop as long as the balance is greater than 0\n",
                "while balance > 0:\n",
                "    # Print the current balance\n",
                "    print(\"You have $\", balance, \"left\")\n",
                "    \n",
                "    # Deduct 100 from the balance\n",
                "    balance -= 100"
            ]
        },
        {
            "cell_type": "markdown",
            "metadata": {},
            "source": [
                "The `while` loop is useful when the number of iterations is not known in advance, and the loop should continue until a certain condition is met. This makes it suitable for scenarios where the loop should continue until a specific condition becomes `False`.\n",
                "\n",
                "Let's look at an example of using a `while` loop to repeat a block of code as long as a condition remains `True`.\n",
                "\n",
                "The code is a simple example of a `while` loop in Python. Here's a breakdown of how it works:\n",
                "\n",
                "1. `balance = 1000`: This line initializes a variable named `balance` and sets its value to 1000. This variable represents the current balance in a bank account.\n",
                "\n",
                "2. `while balance > 0:`: This is the start of the `while` loop. The condition for the loop is `balance > 0`. This means that as long as the value of `balance` is greater than 0, the loop will continue to execute. Once `balance` becomes 0 or less, the loop will stop.\n",
                "\n",
                "3. `print(\"You have $\", balance, \" left\")`: Inside the loop, this line is executed. It prints the current value of `balance` to the console. This allows us to see the remaining balance each time the loop executes.\n",
                "\n",
                "4. `balance -= 100`: This line is also inside the loop. It subtracts 100 from the value of `balance` each time the loop executes. This simulates a withdrawal of 100 dollars from the bank account. This is important because it moves `balance` closer to 0, which is the condition for the loop to stop. Without this line, `balance` would always be 1000, the loop's condition would always be true, and the loop would execute indefinitely, creating an infinite loop.\n",
                "\n",
                "After the loop has finished executing (i.e., once `balance` is 0 or less), the program continues with any code that follows the loop. In this case, there is no additional code, so the program ends after the loop finishes."
            ]
        },
        {
            "cell_type": "markdown",
            "metadata": {},
            "source": [
                "# 5. The `for` Loop 🔁\n",
                "\n",
                "The `for` loop is used to iterate over a sequence (such as a list, tuple, string, or range) or any other iterable object. It executes a block of code once for each element in the sequence. The `for` loop is useful when the number of iterations is known in advance, and the loop should continue for a specific number of times.\n",
                "\n",
                "<!-- The image of flowchart -->\n",
                "![For Loop](https://www.tutorialspoint.com/python/images/python_for_loop.jpg)"
            ]
        },
        {
            "cell_type": "markdown",
            "metadata": {},
            "source": [
                "## The `range()` Function\n",
                "\n",
                "The `range()` function is commonly used with `for` loops to iterate over a sequence of numbers. It generates a sequence of numbers within a specified range. The syntax of the `range()` function is as follows:\n",
                "\n",
                "```python\n",
                "\n",
                "range(start, stop, step)\n",
                "\n",
                "```\n",
                "\n",
                "- `start`: The starting value of the sequence (inclusive). If not specified, the sequence starts at 0.\n",
                "- `stop`: The end value of the sequence (exclusive). This is the number at which the sequence stops.\n",
                "- `step`: The step value, which determines the increment between each number in the sequence. If not specified, the default step value is 1.\n",
                "\n",
                "The `range()` function returns a sequence of numbers from `start` to `stop` with an increment of `step`. This sequence can be used to iterate over a range of numbers in a `for` loop.\n",
                "\n",
                "Let's look at an example of using the `range()` function with a `for` loop to iterate over a sequence of numbers.\n"
            ]
        },
        {
            "cell_type": "code",
            "execution_count": 12,
            "metadata": {},
            "outputs": [
                {
                    "name": "stdout",
                    "output_type": "stream",
                    "text": [
                        "i = 1\n",
                        "i = 2\n",
                        "i = 3\n",
                        "i = 4\n",
                        "i = 5\n"
                    ]
                }
            ],
            "source": [
                "for i in range(1, 6):\n",
                "    print(f\"{i = }\")"
            ]
        },
        {
            "cell_type": "markdown",
            "metadata": {},
            "source": [
                "The code is a simple example of a `for` loop in Python that uses the `range()` function. Here's a breakdown of how it works:\n",
                "\n",
                "1. `for i in range(1, 6):`: This line starts the `for` loop. It uses the `range()` function to generate a sequence of numbers from 1 to 5 (inclusive). The loop variable `i` takes the value of each number in the sequence for each iteration of the loop.\n",
                "\n",
                "2. `print(i)`: Inside the loop, this line is executed. It prints the current value of `i` to the console. This allows us to see the loop's progress each time it executes.\n",
                "\n",
                "After the loop has finished executing (i.e., once `i` has taken the value 5), the program continues with any code that follows the loop. In this case, there is no additional code, so the program ends after the loop finishes.\n"
            ]
        },
        {
            "cell_type": "code",
            "execution_count": 13,
            "metadata": {},
            "outputs": [
                {
                    "name": "stdout",
                    "output_type": "stream",
                    "text": [
                        "i = 1\n",
                        "i = 3\n",
                        "i = 5\n",
                        "i = 7\n",
                        "i = 9\n"
                    ]
                }
            ],
            "source": [
                "for i in range(1, 10, 2):\n",
                "    print(f\"{i = }\")"
            ]
        },
        {
            "cell_type": "markdown",
            "metadata": {},
            "source": [
                "This Python code snippet uses a `for` loop and the `range()` function to print odd numbers between 1 and 9. Here's a breakdown of how it works:\n",
                "\n",
                "1. `for i in range(1, 10, 2):`: This is the start of the `for` loop. The `range()` function generates a sequence of numbers starting from 1, up to but not including 10, incrementing by 2 each time. This means it generates the sequence [1, 3, 5, 7, 9]. The variable `i` takes on each value in this sequence in turn.\n",
                "\n",
                "2. `print(f\"{i = }\")`: Inside the loop, this line is executed for each value of `i`. It prints the current value of `i` to the console. The `f\"{i = }\"` is a formatted string literal (also known as f-string) introduced in Python 3.8. It provides a concise and convenient way to embed expressions inside string literals for formatting. The `i = ` inside the curly braces means it will print the variable name `i` followed by its value.\n",
                "\n",
                "So, for each iteration of the loop, it prints: i = 1 i = 3 i = 5 i = 7 i = 9\n",
                "\n",
                "\n",
                "This shows that the loop has executed 5 times, with `i` taking on each value in the sequence [1, 3, 5, 7, 9].\n",
                "\n"
            ]
        },
        {
            "cell_type": "markdown",
            "metadata": {},
            "source": [
                "### Iterating Over Sequences \n",
                "\n",
                "The `for` loop is commonly used to iterate over sequences such as lists, tuples, strings, and other iterable objects. It allows us to process each element in the sequence one by one.\n",
                "\n",
                "In this module we will work only with strings. \n",
                "\n",
                "Let's look at an example of using a `for` loop to iterate over a string.\n"
            ]
        },
        {
            "cell_type": "code",
            "execution_count": 14,
            "metadata": {},
            "outputs": [
                {
                    "name": "stdout",
                    "output_type": "stream",
                    "text": [
                        "char = 'P'\n",
                        "char = 'y'\n",
                        "char = 't'\n",
                        "char = 'h'\n",
                        "char = 'o'\n",
                        "char = 'n'\n"
                    ]
                }
            ],
            "source": [
                "python = \"Python\"\n",
                "\n",
                "for char in python:\n",
                "    print(f\"{char = }\")"
            ]
        },
        {
            "cell_type": "markdown",
            "metadata": {},
            "source": [
                "The code is a simple example of a `for` loop in Python that iterates over a string. Here's a breakdown of how it works:\n",
                "\n",
                "1. `for char in \"Python\":`: This line starts the `for` loop. The loop iterates over each character in the string \"Python\". The loop variable `char` takes the value of each character in the string for each iteration of the loop.\n",
                "\n",
                "2. `print(char)`: Inside the loop, this line is executed. It prints the current value of `char` to the console. This allows us to see each character in the string as the loop progresses.\n",
                "\n",
                "After the loop has finished executing (i.e., once `char` has taken the value \"n\"), the program continues with any code that follows the loop. In this case, there is no additional code, so the program ends after the loop finishes.\n"
            ]
        },
        {
            "cell_type": "markdown",
            "metadata": {},
            "source": [
                "### The `_` Variable\n",
                "\n",
                "In Python, the `_` (underscore) variable is used to ignore values during iteration. It is commonly used when we don't need the value of the loop variable in the loop body. This is useful when we only need to execute a block of code a certain number of times and don't need to use the loop variable inside the loop.\n",
                "\n",
                "Let's look at an example of using the `_` variable to ignore values during iteration.\n",
                "\n",
                "\n",
                "The code is a simple example of a `for` loop in Python that uses the `_` variable to ignore values during iteration. Here's a breakdown of how it works:\n"
            ]
        },
        {
            "cell_type": "code",
            "execution_count": 15,
            "metadata": {},
            "outputs": [
                {
                    "name": "stdout",
                    "output_type": "stream",
                    "text": [
                        "Hello, world!\n",
                        "Hello, world!\n",
                        "Hello, world!\n",
                        "Hello, world!\n",
                        "Hello, world!\n"
                    ]
                }
            ],
            "source": [
                "for _ in range(5):\n",
                "    print(\"Hello, world!\")"
            ]
        },
        {
            "cell_type": "markdown",
            "metadata": {},
            "source": [
                "1. `for _ in range(5):`: This line starts the `for` loop. The `range()` function generates a sequence of numbers from 0 to 4 (inclusive). The loop iterates over each number in the sequence, but the loop variable `_` is used to ignore the values.\n",
                "\n",
                "2. `print(\"Hello\")`: Inside the loop, this line is executed for each value in the sequence. It prints \"Hello\" to the console. This allows us to see \"Hello\" printed 5 times, once for each iteration of the loop.\n",
                "\n",
                "After the loop has finished executing (i.e., once the loop has iterated over all values in the sequence), the program continues with any code that follows the loop. In this case, there is no additional code, so the program ends after the loop finishes."
            ]
        },
        {
            "cell_type": "markdown",
            "metadata": {},
            "source": [
                "# 6. Controlling Loop Execution 🚦\n",
                "\n",
                "In Python, we can control the execution of loops using special statements and clauses. These allow us to exit a loop prematurely, skip the current iteration, or execute code after the loop has completed. Let's explore these control flow statements and clauses in more detail."
            ]
        },
        {
            "cell_type": "markdown",
            "metadata": {},
            "source": [
                "## The `break` Statement\n",
                "\n",
                "The `break` statement is used to exit a loop prematurely. When a `break` statement is encountered inside a loop, the loop is terminated immediately, and the program continues with the next statement after the loop.\n",
                "\n",
                "The `break` statement is useful when we want to stop the loop based on a certain condition, even if the loop condition is still `True`.\n",
                "\n",
                "Let's look at an example of using the `break` statement to exit a loop prematurely."
            ]
        },
        {
            "cell_type": "code",
            "execution_count": 17,
            "metadata": {},
            "outputs": [
                {
                    "name": "stdout",
                    "output_type": "stream",
                    "text": [
                        "i = 0\n",
                        "i = 1\n",
                        "i = 2\n"
                    ]
                }
            ],
            "source": [
                "# Break statement in for loop\n",
                "\n",
                "for i in range(5):\n",
                "    if i == 3:\n",
                "        break\n",
                "    print(f\"{i = }\")\n"
            ]
        },
        {
            "cell_type": "markdown",
            "metadata": {},
            "source": [
                "This Python code snippet uses a `for` loop, the `range()` function, and a `break` statement to print numbers from 0 to 2. Here's a breakdown of how it works:\n",
                "\n",
                "1. `for i in range(5):`: This is the start of the `for` loop. The `range()` function generates a sequence of numbers starting from 0, up to but not including 5. This means it generates the sequence [0, 1, 2, 3, 4]. The variable `i` takes on each value in this sequence in turn.\n",
                "\n",
                "2. `if i == 3: break`: This is a conditional statement inside the loop. If the value of `i` is equal to 3, the `break` statement is executed. The `break` statement in Python terminates the current loop and resumes execution at the next statement, just like the traditional break found in C. In this case, it immediately exits the `for` loop, skipping any remaining iterations.\n",
                "\n",
                "3. `print(f\"{i = }\")`: This line is also inside the loop. It is executed for each value of `i` until the `break` statement is encountered. It prints the current value of `i` to the console. The `f\"{i = }\"` is a formatted string literal (also known as f-string) introduced in Python 3.8. It provides a concise and convenient way to embed expressions inside string literals for formatting. The `i = ` inside the curly braces means it will print the variable name `i` followed by its value.\n",
                "\n",
                "So, for each iteration of the loop, it prints:\n",
                "\n",
                "i = 0 i = 1 i = 2\n",
                "\n",
                "After the loop has finished executing (i.e., once `i` has taken the value 3), the program continues with any code that follows the loop. In this case, there is no additional code, so the program ends after the loop finishes.  When `i` becomes 3, the `break` statement is executed and the loop is immediately exited, so `i = 3` and `i = 4` are not printed."
            ]
        },
        {
            "cell_type": "code",
            "execution_count": 18,
            "metadata": {},
            "outputs": [
                {
                    "name": "stdout",
                    "output_type": "stream",
                    "text": [
                        "i = 0\n",
                        "i = 1\n",
                        "i = 2\n"
                    ]
                }
            ],
            "source": [
                "# Break statement in while loop\n",
                "\n",
                "i = 0\n",
                "\n",
                "while i < 5:\n",
                "    if i == 3:\n",
                "        break\n",
                "    print(f\"{i = }\")\n",
                "    i += 1"
            ]
        },
        {
            "cell_type": "markdown",
            "metadata": {},
            "source": [
                "This Python code snippet uses a `while` loop and a `break` statement to print numbers from 0 to 2. Here's a breakdown of how it works:\n",
                "\n",
                "1. `i = 0`: This line initializes a variable named `i` and sets its value to 0. This variable is used to keep track of the number of times the loop has executed.\n",
                "\n",
                "2. `while i < 5:`: This is the start of the `while` loop. The condition for the loop is `i < 5`. This means that as long as the value of `i` is less than 5, the loop will continue to execute. Once `i` becomes equal to or greater than 5, the loop will stop.\n",
                "\n",
                "3. `if i == 3: break`: This is a conditional statement inside the loop. If the value of `i` is equal to 3, the `break` statement is executed. The `break` statement in Python terminates the current loop and resumes execution at the next statement. In this case, it immediately exits the `while` loop, skipping any remaining iterations.\n",
                "\n",
                "4. `print(f\"{i = }\")`: This line is also inside the loop. It is executed for each value of `i` until the `break` statement is encountered. It prints the current value of `i` to the console. The `f\"{i = }\"` is a formatted string literal (also known as f-string) introduced in Python 3.8. It provides a concise and convenient way to embed expressions inside string literals for formatting. The `i = ` inside the curly braces means it will print the variable name `i` followed by its value.\n",
                "\n",
                "5. `i += 1`: This line is also inside the loop. It increments the value of `i` by 1 each time the loop executes. This is important because it moves `i` closer to 5, which is the condition for the loop to stop. Without this line, `i` would always be 0, the loop's condition would always be true, and the loop would execute indefinitely, creating an infinite loop.\n",
                "\n",
                "So, for each iteration of the loop, it prints:\n",
                "i = 0 i = 1 i = 2\n",
                "\n",
                "\n",
                "When `i` becomes 3, the `break` statement is executed and the loop is immediately exited, so `i = 3` and `i = 4` are not printed."
            ]
        },
        {
            "cell_type": "markdown",
            "metadata": {},
            "source": [
                "## The `continue` Statement\n",
                "\n",
                "The `continue` statement is used to skip the current iteration and move to the next one. When a `continue` statement is encountered inside a loop, the current iteration is terminated immediately, and the program continues with the next iteration of the loop.\n",
                "\n",
                "The `continue` statement is useful when we want to skip certain iterations of a loop based on a certain condition, but continue with the next iteration.\n",
                "\n",
                "Let's look at an example of using the `continue` statement to skip the current iteration of a loop."
            ]
        },
        {
            "cell_type": "code",
            "execution_count": 19,
            "metadata": {},
            "outputs": [
                {
                    "name": "stdout",
                    "output_type": "stream",
                    "text": [
                        "i = 0\n",
                        "i = 1\n",
                        "i = 2\n",
                        "i = 4\n"
                    ]
                }
            ],
            "source": [
                "# Continue statement in for loop\n",
                "\n",
                "for i in range(5):\n",
                "    if i == 3:\n",
                "        continue\n",
                "    print(f\"{i = }\")"
            ]
        },
        {
            "cell_type": "markdown",
            "metadata": {},
            "source": [
                "This Python code snippet uses a `for` loop, the `range()` function, and a `continue` statement. Here's a breakdown of how it works:\n",
                "\n",
                "1. `for i in range(5):`: This is the start of the `for` loop. The `range()` function generates a sequence of numbers starting from 0, up to but not including 5. This means it generates the sequence [0, 1, 2, 3, 4]. The variable `i` takes on each value in this sequence in turn.\n",
                "\n",
                "2. `if i == 3: continue`: This is a conditional statement inside the loop. If the value of `i` is equal to 3, the `continue` statement is executed. The `continue` statement in Python rejects all the remaining statements in the current iteration of the loop and moves the control back to the top of the loop. In this case, it skips the current iteration and continues with the next one.\n",
                "\n",
                "3. `print(f\"{i = }\")`: This line is also inside the loop. It is executed for each value of `i` except when the `continue` statement is encountered. It prints the current value of `i` to the console. The `f\"{i = }\"` is a formatted string literal (also known as f-string) introduced in Python 3.8. It provides a concise and convenient way to embed expressions inside string literals for formatting. The `i = ` inside the curly braces means it will print the variable name `i` followed by its value.\n",
                "\n",
                "So, for each iteration of the loop, it prints:\n",
                "\n",
                "i = 0 i = 1 i = 2 i = 4\n",
                "\n",
                "\n",
                "When `i` becomes 3, the `continue` statement is executed and the current iteration is skipped, so `i = 3` is not printed."
            ]
        },
        {
            "cell_type": "code",
            "execution_count": 20,
            "metadata": {},
            "outputs": [
                {
                    "name": "stdout",
                    "output_type": "stream",
                    "text": [
                        "i = 1\n",
                        "i = 2\n",
                        "i = 4\n",
                        "i = 5\n"
                    ]
                }
            ],
            "source": [
                "# Continue statement in while loop\n",
                "\n",
                "i = 0\n",
                "\n",
                "while i < 5:\n",
                "    i += 1\n",
                "    if i == 3:\n",
                "        continue\n",
                "    print(f\"{i = }\")"
            ]
        },
        {
            "cell_type": "markdown",
            "metadata": {},
            "source": [
                "This Python code snippet uses a `while` loop and a `continue` statement. Here's a breakdown of how it works:\n",
                "\n",
                "1. `i = 0`: This line initializes a variable named `i` and sets its value to 0. This variable is used to keep track of the number of times the loop has executed.\n",
                "\n",
                "2. `while i < 5:`: This is the start of the `while` loop. The condition for the loop is `i < 5`. This means that as long as the value of `i` is less than 5, the loop will continue to execute. Once `i` becomes equal to or greater than 5, the loop will stop.\n",
                "\n",
                "3. `i += 1`: This line is inside the loop. It increments the value of `i` by 1 each time the loop executes. This is important because it moves `i` closer to 5, which is the condition for the loop to stop. Without this line, `i` would always be 0, the loop's condition would always be true, and the loop would execute indefinitely, creating an infinite loop.\n",
                "\n",
                "4. `if i == 3: continue`: This is a conditional statement inside the loop. If the value of `i` is equal to 3, the `continue` statement is executed. The `continue` statement in Python rejects all the remaining statements in the current iteration of the loop and moves the control back to the top of the loop. In this case, it skips the current iteration and continues with the next one.\n",
                "\n",
                "5. `print(f\"{i = }\")`: This line is also inside the loop. It is executed for each value of `i` except when the `continue` statement is encountered. It prints the current value of `i` to the console. The `f\"{i = }\"` is a formatted string literal (also known as f-string) introduced in Python 3.8. It provides a concise and convenient way to embed expressions inside string literals for formatting. The `i = ` inside the curly braces means it will print the variable name `i` followed by its value.\n",
                "\n",
                "So, for each iteration of the loop, it prints:\n",
                "\n",
                "i = 1 i = 2 i = 4 i = 5\n",
                "\n",
                "\n",
                "When `i` becomes 3, the `continue` statement is executed and the current iteration is skipped, so `i = 3` is not printed.\n",
                "\n"
            ]
        },
        {
            "cell_type": "markdown",
            "metadata": {},
            "source": [
                "# 7. Nested Loops 🍱\n",
                "\n",
                "In Python, we can use loops within loops, known as nested loops. This allows us to handle more complex iteration patterns, such as building time tables.\n",
                "\n",
                "A nested loop is a loop inside another loop. The \"inner\" loop is executed for each iteration of the \"outer\" loop. This allows us to process each element in a sequence multiple times, or to iterate over a sequence of sequences.\n",
                "\n",
                "Let's look at an example of using nested loops to iterate over a sequence of sequences."
            ]
        },
        {
            "cell_type": "code",
            "execution_count": 25,
            "metadata": {},
            "outputs": [
                {
                    "name": "stdout",
                    "output_type": "stream",
                    "text": [
                        "i = 0, j = 0\n",
                        "i = 0, j = 1\n",
                        "i = 0, j = 2\n",
                        "\n",
                        "i = 1, j = 0\n",
                        "i = 1, j = 1\n",
                        "i = 1, j = 2\n",
                        "\n",
                        "i = 2, j = 0\n",
                        "i = 2, j = 1\n",
                        "i = 2, j = 2\n",
                        "\n"
                    ]
                }
            ],
            "source": [
                "for i in range(3):\n",
                "    for j in range(3):\n",
                "        print(f\"i = {i}, j = {j}\")\n",
                "    print()"
            ]
        },
        {
            "cell_type": "markdown",
            "metadata": {},
            "source": [
                "This Python code snippet uses nested `for` loops to print pairs of numbers. Here's a breakdown of how it works:\n",
                "\n",
                "1. `for i in range(3):`: This is the start of the outer `for` loop. The `range()` function generates a sequence of numbers starting from 0, up to but not including 3. This means it generates the sequence [0, 1, 2]. The variable `i` takes on each value in this sequence in turn.\n",
                "\n",
                "2. `for j in range(3):`: This is the start of the inner `for` loop. Just like the outer loop, it also generates a sequence of numbers [0, 1, 2]. The variable `j` takes on each value in this sequence in turn.\n",
                "\n",
                "3. `print(f\"i = {i}, j = {j}\")`: This line is inside the inner loop. It is executed for each combination of `i` and `j`. It prints the current values of `i` and `j` to the console. The `f\"i = {i}, j = {j}\"` is a formatted string literal (also known as f-string) introduced in Python 3.8. It provides a concise and convenient way to embed expressions inside string literals for formatting.\n",
                "\n",
                "\n",
                "This shows that the outer loop has executed 3 times, and for each iteration of the outer loop, the inner loop has also executed 3 times, resulting in 9 total iterations."
            ]
        },
        {
            "cell_type": "code",
            "execution_count": 24,
            "metadata": {},
            "outputs": [
                {
                    "name": "stdout",
                    "output_type": "stream",
                    "text": [
                        "i = 0 char = 'P'\n",
                        "i = 0 char = 'y'\n",
                        "i = 0 char = 't'\n",
                        "i = 0 char = 'h'\n",
                        "i = 0 char = 'o'\n",
                        "i = 0 char = 'n'\n",
                        "\n",
                        "i = 1 char = 'P'\n",
                        "i = 1 char = 'y'\n",
                        "i = 1 char = 't'\n",
                        "i = 1 char = 'h'\n",
                        "i = 1 char = 'o'\n",
                        "i = 1 char = 'n'\n",
                        "\n"
                    ]
                }
            ],
            "source": [
                "i = 0\n",
                "python = \"Python\"\n",
                "\n",
                "while i < 2:\n",
                "    for char in python:\n",
                "        print(f\"{i = } {char = }\")\n",
                "    print()\n",
                "    i += 1"
            ]
        },
        {
            "cell_type": "markdown",
            "metadata": {},
            "source": [
                "This Python code snippet uses a `while` loop, a `for` loop, and a string to print pairs of numbers and characters. Here's a breakdown of how it works:\n",
                "\n",
                "1. `i = 0`: This line initializes a variable named `i` and sets its value to 0. This variable is used to keep track of the number of times the `while` loop has executed.\n",
                "\n",
                "2. `python = \"Python\"`: This line initializes a string variable named `python` and sets its value to \"Python\".\n",
                "\n",
                "3. `while i < 2:`: This is the start of the `while` loop. The condition for the loop is `i < 2`. This means that as long as the value of `i` is less than 2, the loop will continue to execute. Once `i` becomes equal to or greater than 2, the loop will stop.\n",
                "\n",
                "4. `for char in python:`: This is the start of the `for` loop which is nested inside the `while` loop. The variable `char` takes on each character in the string `python` in turn.\n",
                "\n",
                "5. `print(f\"{i = } {char = }\")`: This line is inside the `for` loop. It is executed for each character in the string `python` for each iteration of the `while` loop. It prints the current value of `i` and the current character `char` to the console. The `f\"{i = } {char = }\"` is a formatted string literal (also known as f-string) introduced in Python 3.8. It provides a concise and convenient way to embed expressions inside string literals for formatting.\n",
                "\n",
                "6. `print()`: This line is also inside the `while` loop but outside the `for` loop. It prints an empty line to the console after each complete iteration of the `for` loop.\n",
                "\n",
                "7. `i += 1`: This line is also inside the `while` loop but outside the `for` loop. It increments the value of `i` by 1 each time the `while` loop executes. This is important because it moves `i` closer to 2, which is the condition for the `while` loop to stop. Without this line, `i` would always be 0, the `while` loop's condition would always be true, and the `while` loop would execute indefinitely, creating an infinite loop.\n",
                "\n",
                "\n",
                "This shows that the `while` loop has executed 2 times, and for each iteration of the `while` loop, the `for` loop has also executed 6 times (once for each character in the string \"Python\"), resulting in 12 total iterations."
            ]
        },
        {
            "cell_type": "markdown",
            "metadata": {},
            "source": [
                "# 8. Extra Tricks 📝"
            ]
        },
        {
            "cell_type": "markdown",
            "metadata": {},
            "source": [
                "## Avoiding Infinite Loops\n",
                "\n",
                "An infinite loop is a loop that never terminates. It continues to execute indefinitely, consuming system resources and causing the program to hang or crash. Infinite loops are usually the result of a logical error in the loop condition or the loop body.\n",
                "\n",
                "To avoid infinite loops, it's important to ensure that the loop condition is updated during each iteration, and that the loop condition will eventually become `False`. This can be achieved by using loop variables, conditional statements, and loop control flow statements such as `break` and `continue`.\n",
                "\n",
                "Here are a few tips for avoiding infinite loops:\n",
                "\n",
                "- Ensure that the loop condition is updated during each iteration.\n",
                "- Use loop variables to keep track of the loop state.\n",
                "- Use conditional statements to control the loop execution.\n",
                "- Use loop control flow statements such as `break` and `continue` to exit the loop or skip iterations."
            ]
        },
        {
            "cell_type": "code",
            "execution_count": 26,
            "metadata": {},
            "outputs": [
                {
                    "name": "stdout",
                    "output_type": "stream",
                    "text": [
                        "Hello, world!\n"
                    ]
                }
            ],
            "source": [
                "# Example of infinite loop\n",
                "\n",
                "while True:\n",
                "    print(\"Hello, world!\")\n",
                "    # break"
            ]
        },
        {
            "cell_type": "markdown",
            "metadata": {},
            "source": [
                "## Optimizing Loop Performance\n",
                "\n",
                "When writing loops, it's important to consider the performance of the loop, especially when working with large datasets or complex iterations. Optimizing loop performance can help improve the efficiency and speed of the program.\n",
                "\n",
                "Here are a few best practices for optimizing loop performance:\n",
                "\n",
                "- Minimize the number of iterations: Reduce the number of iterations by using efficient data structures and algorithms.\n",
                "- Use built-in functions: Use built-in functions and libraries to perform complex operations and avoid writing custom loops.\n",
                "- Avoid redundant operations: Minimize redundant operations inside the loop body to reduce the overall execution time.\n",
                "- Use vectorized operations: Use vectorized operations and broadcasting to perform element-wise operations on arrays and matrices.\n",
                "\n",
                "By following these best practices, you can write efficient and performant loops that improve the overall speed and efficiency of your programs."
            ]
        },
        {
            "cell_type": "markdown",
            "metadata": {},
            "source": [
                "# Conclusion 🌟\n",
                "\n",
                "This module has provided a comprehensive overview of iterations and loops in Python. We've explored the `for` and `while` loops, learned about loop control flow statements, and discovered how to use nested loops for complex iteration patterns. We've also discussed best practices for avoiding infinite loops and optimizing loop performance.\n",
                "\n",
                "Loops are a fundamental concept in programming, and mastering them is essential for automating repetitive tasks, processing collections of data, and writing efficient and concise code. By understanding the different types of loops, controlling loop execution, and applying best practices, you can unlock the potential of repetitive execution in Python.\n",
                "\n",
                "In the next module, we'll explore more how to work with strings in Python.\n",
                "\n",
                "I hope you enjoyed this module and found it helpful. If you have any questions or feedback, please feel free to reach out. Happy learning! 🌟"
            ]
        },
        {
            "cell_type": "markdown",
            "metadata": {},
            "source": [
                "\n",
                "# References 📚\n",
                "\n",
                "- [Python Documentation - Control Flow Tools](https://docs.python.org/3/tutorial/controlflow.html)\n",
                "- [Real Python - Python Loops](https://realpython.com/python-for-loop/)\n",
                "- [Programiz - Python Loops](https://www.programiz.com/python-programming/for-loop)\n",
                "- [W3Schools - Python Loops](https://www.w3schools.com/python/python_for_loops.asp)\n",
                "- [GeeksforGeeks - Python Loops](https://www.geeksforgeeks.org/python-loops/)\n",
                "- [DataCamp - Python Loops](https://www.datacamp.com/community/tutorials/loops-python-tutorial)\n",
                "- [PythonForBeginners - Python Loops](https://www.pythonforbeginners.com/control-flow-2/python-for-and-while-loops)\n",
                "- [Real Python - Python Break, Continue, and Pass Statements](https://realpython.com/python-break-continue/)\n",
                "- [Programiz - Python Break and Continue Statements](https://www.programiz.com/python-programming/break-continue)\n",
                "- [W3Schools - Python Break and Continue](https://www.w3schools.com/python/python_break.asp)\n",
                "- [GeeksforGeeks - Python Break and Continue](https://www.geeksforgeeks.org/python-break-and-continue/)\n",
                "- [DataCamp - Python Break and Continue](https://www.datacamp.com/community/tutorials/loops-python-tutorial)\n",
                "- [Real Python - Python Nested Loops](https://realpython.com/python-for-loop/)\n",
                "- [Programiz - Python Nested Loops](https://www.programiz.com/python-programming/nested-loops)\n",
                "- [W3Schools - Python Nested Loops](https://www.w3schools.com/python/python_nested_loops.asp)\n",
                "- [GeeksforGeeks - Python Nested Loops](https://www.geeksforgeeks.org/nested-loops-in-python/)\n",
                "- [DataCamp - Python Nested Loops](https://www.datacamp.com/community/tutorials/loops-python-tutorial)\n",
                "- [Real Python - Python Infinite Loops](https://realpython.com/python-for-loop/)\n",
                "- [Programiz - Python Infinite Loops](https://www.programiz.com/python-programming/for-loop)\n",
                "- [W3Schools - Python Infinite Loops](https://www.w3schools.com/python/python_while_loops.asp)"
            ]
        }
    ],
    "metadata": {
        "kernelspec": {
            "display_name": "Python 3",
            "language": "python",
            "name": "python3"
        },
        "language_info": {
            "codemirror_mode": {
                "name": "ipython",
                "version": 3
            },
            "file_extension": ".py",
            "mimetype": "text/x-python",
            "name": "python",
            "nbconvert_exporter": "python",
            "pygments_lexer": "ipython3",
            "version": "3.11.5"
        }
    },
    "nbformat": 4,
    "nbformat_minor": 4
}
